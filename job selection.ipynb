{
 "cells": [
  {
   "cell_type": "code",
   "execution_count": 11,
   "id": "6cf235c1",
   "metadata": {},
   "outputs": [],
   "source": [
    "import pandas as pd\n",
    "import seaborn as sns"
   ]
  },
  {
   "cell_type": "code",
   "execution_count": 46,
   "id": "1d5bbca0",
   "metadata": {},
   "outputs": [],
   "source": [
    "import numpy as np\n",
    "import matplotlib.pyplot as plt"
   ]
  },
  {
   "cell_type": "code",
   "execution_count": 13,
   "id": "ff515ae4",
   "metadata": {},
   "outputs": [
    {
     "data": {
      "text/html": [
       "<div>\n",
       "<style scoped>\n",
       "    .dataframe tbody tr th:only-of-type {\n",
       "        vertical-align: middle;\n",
       "    }\n",
       "\n",
       "    .dataframe tbody tr th {\n",
       "        vertical-align: top;\n",
       "    }\n",
       "\n",
       "    .dataframe thead th {\n",
       "        text-align: right;\n",
       "    }\n",
       "</style>\n",
       "<table border=\"1\" class=\"dataframe\">\n",
       "  <thead>\n",
       "    <tr style=\"text-align: right;\">\n",
       "      <th></th>\n",
       "      <th>score</th>\n",
       "      <th>exam_marks</th>\n",
       "      <th>selected</th>\n",
       "    </tr>\n",
       "  </thead>\n",
       "  <tbody>\n",
       "    <tr>\n",
       "      <th>0</th>\n",
       "      <td>7.19</td>\n",
       "      <td>26</td>\n",
       "      <td>1</td>\n",
       "    </tr>\n",
       "    <tr>\n",
       "      <th>1</th>\n",
       "      <td>7.46</td>\n",
       "      <td>38</td>\n",
       "      <td>1</td>\n",
       "    </tr>\n",
       "    <tr>\n",
       "      <th>2</th>\n",
       "      <td>7.54</td>\n",
       "      <td>40</td>\n",
       "      <td>1</td>\n",
       "    </tr>\n",
       "    <tr>\n",
       "      <th>3</th>\n",
       "      <td>6.42</td>\n",
       "      <td>8</td>\n",
       "      <td>1</td>\n",
       "    </tr>\n",
       "    <tr>\n",
       "      <th>4</th>\n",
       "      <td>7.23</td>\n",
       "      <td>17</td>\n",
       "      <td>0</td>\n",
       "    </tr>\n",
       "    <tr>\n",
       "      <th>...</th>\n",
       "      <td>...</td>\n",
       "      <td>...</td>\n",
       "      <td>...</td>\n",
       "    </tr>\n",
       "    <tr>\n",
       "      <th>995</th>\n",
       "      <td>8.87</td>\n",
       "      <td>44</td>\n",
       "      <td>1</td>\n",
       "    </tr>\n",
       "    <tr>\n",
       "      <th>996</th>\n",
       "      <td>9.12</td>\n",
       "      <td>65</td>\n",
       "      <td>1</td>\n",
       "    </tr>\n",
       "    <tr>\n",
       "      <th>997</th>\n",
       "      <td>4.89</td>\n",
       "      <td>34</td>\n",
       "      <td>0</td>\n",
       "    </tr>\n",
       "    <tr>\n",
       "      <th>998</th>\n",
       "      <td>8.62</td>\n",
       "      <td>46</td>\n",
       "      <td>1</td>\n",
       "    </tr>\n",
       "    <tr>\n",
       "      <th>999</th>\n",
       "      <td>4.90</td>\n",
       "      <td>10</td>\n",
       "      <td>1</td>\n",
       "    </tr>\n",
       "  </tbody>\n",
       "</table>\n",
       "<p>1000 rows × 3 columns</p>\n",
       "</div>"
      ],
      "text/plain": [
       "     score  exam_marks  selected\n",
       "0     7.19          26         1\n",
       "1     7.46          38         1\n",
       "2     7.54          40         1\n",
       "3     6.42           8         1\n",
       "4     7.23          17         0\n",
       "..     ...         ...       ...\n",
       "995   8.87          44         1\n",
       "996   9.12          65         1\n",
       "997   4.89          34         0\n",
       "998   8.62          46         1\n",
       "999   4.90          10         1\n",
       "\n",
       "[1000 rows x 3 columns]"
      ]
     },
     "execution_count": 13,
     "metadata": {},
     "output_type": "execute_result"
    }
   ],
   "source": [
    "pd.read_csv(r\"C:\\Users\\Hp\\Downloads\\jobselection.csv\")"
   ]
  },
  {
   "cell_type": "code",
   "execution_count": 14,
   "id": "d0cc33f3",
   "metadata": {},
   "outputs": [],
   "source": [
    "js = pd.read_csv(r\"C:\\Users\\Hp\\Downloads\\jobselection.csv\")"
   ]
  },
  {
   "cell_type": "code",
   "execution_count": 48,
   "id": "6e3c720f",
   "metadata": {
    "scrolled": true
   },
   "outputs": [
    {
     "data": {
      "text/html": [
       "<div>\n",
       "<style scoped>\n",
       "    .dataframe tbody tr th:only-of-type {\n",
       "        vertical-align: middle;\n",
       "    }\n",
       "\n",
       "    .dataframe tbody tr th {\n",
       "        vertical-align: top;\n",
       "    }\n",
       "\n",
       "    .dataframe thead th {\n",
       "        text-align: right;\n",
       "    }\n",
       "</style>\n",
       "<table border=\"1\" class=\"dataframe\">\n",
       "  <thead>\n",
       "    <tr style=\"text-align: right;\">\n",
       "      <th></th>\n",
       "      <th>score</th>\n",
       "      <th>exam_marks</th>\n",
       "      <th>selected</th>\n",
       "    </tr>\n",
       "  </thead>\n",
       "  <tbody>\n",
       "    <tr>\n",
       "      <th>0</th>\n",
       "      <td>7.19</td>\n",
       "      <td>26</td>\n",
       "      <td>1</td>\n",
       "    </tr>\n",
       "    <tr>\n",
       "      <th>1</th>\n",
       "      <td>7.46</td>\n",
       "      <td>38</td>\n",
       "      <td>1</td>\n",
       "    </tr>\n",
       "    <tr>\n",
       "      <th>2</th>\n",
       "      <td>7.54</td>\n",
       "      <td>40</td>\n",
       "      <td>1</td>\n",
       "    </tr>\n",
       "    <tr>\n",
       "      <th>3</th>\n",
       "      <td>6.42</td>\n",
       "      <td>8</td>\n",
       "      <td>1</td>\n",
       "    </tr>\n",
       "    <tr>\n",
       "      <th>4</th>\n",
       "      <td>7.23</td>\n",
       "      <td>17</td>\n",
       "      <td>0</td>\n",
       "    </tr>\n",
       "    <tr>\n",
       "      <th>...</th>\n",
       "      <td>...</td>\n",
       "      <td>...</td>\n",
       "      <td>...</td>\n",
       "    </tr>\n",
       "    <tr>\n",
       "      <th>995</th>\n",
       "      <td>8.87</td>\n",
       "      <td>44</td>\n",
       "      <td>1</td>\n",
       "    </tr>\n",
       "    <tr>\n",
       "      <th>996</th>\n",
       "      <td>9.12</td>\n",
       "      <td>65</td>\n",
       "      <td>1</td>\n",
       "    </tr>\n",
       "    <tr>\n",
       "      <th>997</th>\n",
       "      <td>4.89</td>\n",
       "      <td>34</td>\n",
       "      <td>0</td>\n",
       "    </tr>\n",
       "    <tr>\n",
       "      <th>998</th>\n",
       "      <td>8.62</td>\n",
       "      <td>46</td>\n",
       "      <td>1</td>\n",
       "    </tr>\n",
       "    <tr>\n",
       "      <th>999</th>\n",
       "      <td>4.90</td>\n",
       "      <td>10</td>\n",
       "      <td>1</td>\n",
       "    </tr>\n",
       "  </tbody>\n",
       "</table>\n",
       "<p>1000 rows × 3 columns</p>\n",
       "</div>"
      ],
      "text/plain": [
       "     score  exam_marks  selected\n",
       "0     7.19          26         1\n",
       "1     7.46          38         1\n",
       "2     7.54          40         1\n",
       "3     6.42           8         1\n",
       "4     7.23          17         0\n",
       "..     ...         ...       ...\n",
       "995   8.87          44         1\n",
       "996   9.12          65         1\n",
       "997   4.89          34         0\n",
       "998   8.62          46         1\n",
       "999   4.90          10         1\n",
       "\n",
       "[1000 rows x 3 columns]"
      ]
     },
     "execution_count": 48,
     "metadata": {},
     "output_type": "execute_result"
    }
   ],
   "source": [
    "js"
   ]
  },
  {
   "cell_type": "code",
   "execution_count": 16,
   "id": "7de6b373",
   "metadata": {},
   "outputs": [
    {
     "data": {
      "text/plain": [
       "3000"
      ]
     },
     "execution_count": 16,
     "metadata": {},
     "output_type": "execute_result"
    }
   ],
   "source": [
    "js.size"
   ]
  },
  {
   "cell_type": "code",
   "execution_count": 17,
   "id": "207b5e2d",
   "metadata": {},
   "outputs": [
    {
     "data": {
      "text/plain": [
       "score  exam_marks  selected\n",
       "7.37   52          1           2\n",
       "7.20   26          1           2\n",
       "6.70   22          0           2\n",
       "8.02   67          0           2\n",
       "6.82   16          1           2\n",
       "                              ..\n",
       "6.70   64          0           1\n",
       "6.71   9           1           1\n",
       "       16          1           1\n",
       "       26          1           1\n",
       "9.12   65          1           1\n",
       "Length: 981, dtype: int64"
      ]
     },
     "execution_count": 17,
     "metadata": {},
     "output_type": "execute_result"
    }
   ],
   "source": [
    "js.value_counts()"
   ]
  },
  {
   "cell_type": "code",
   "execution_count": 18,
   "id": "a636848c",
   "metadata": {},
   "outputs": [
    {
     "data": {
      "text/plain": [
       "0      7.19\n",
       "1      7.46\n",
       "2      7.54\n",
       "3      6.42\n",
       "4      7.23\n",
       "       ... \n",
       "995    8.87\n",
       "996    9.12\n",
       "997    4.89\n",
       "998    8.62\n",
       "999    4.90\n",
       "Name: score, Length: 1000, dtype: float64"
      ]
     },
     "execution_count": 18,
     "metadata": {},
     "output_type": "execute_result"
    }
   ],
   "source": [
    "js[\"score\"]"
   ]
  },
  {
   "cell_type": "code",
   "execution_count": 19,
   "id": "d4be50bb",
   "metadata": {},
   "outputs": [
    {
     "data": {
      "text/plain": [
       "array([7.19, 7.46, 7.54, 6.42, 7.23, 7.3 , 6.69, 7.12, 6.45, 7.75, 6.82,\n",
       "       6.38, 6.58, 5.68, 7.91, 7.1 , 6.53, 7.56, 6.93, 7.63, 7.43, 6.76,\n",
       "       6.05, 6.44, 6.28, 7.45, 6.51, 7.66, 5.91, 6.23, 8.15, 7.48, 6.85,\n",
       "       8.51, 7.25, 6.6 , 6.7 , 7.85, 7.88, 6.92, 6.29, 8.23, 6.2 , 6.24,\n",
       "       7.53, 8.42, 8.12, 7.73, 7.34, 7.7 , 7.94, 7.51, 7.61, 6.22, 6.98,\n",
       "       6.27, 6.67, 8.04, 7.41, 6.13, 7.9 , 6.39, 6.16, 6.77, 8.35, 8.2 ,\n",
       "       6.87, 7.22, 7.38, 5.65, 6.03, 6.96, 6.78, 6.56, 7.42, 6.48, 7.  ,\n",
       "       7.15, 6.89, 7.09, 7.33, 5.92, 6.72, 6.59, 7.32, 5.94, 7.24, 6.3 ,\n",
       "       7.28, 7.16, 7.11, 6.9 , 6.99, 5.97, 6.25, 6.95, 6.81, 8.19, 7.71,\n",
       "       7.65, 6.33, 6.63, 5.69, 8.09, 6.32, 7.08, 6.75, 6.68, 6.86, 8.53,\n",
       "       7.29, 7.78, 7.57, 7.84, 6.4 , 7.07, 5.74, 7.36, 6.26, 7.8 , 7.76,\n",
       "       6.65, 6.19, 6.17, 6.71, 7.31, 7.72, 7.18, 6.11, 6.97, 6.31, 8.29,\n",
       "       5.77, 7.93, 7.01, 7.5 , 7.05, 6.88, 6.62, 5.42, 5.48, 6.15, 6.79,\n",
       "       7.03, 7.77, 7.2 , 7.14, 5.99, 7.68, 7.67, 7.4 , 6.46, 7.37, 6.12,\n",
       "       5.66, 7.17, 8.11, 7.82, 6.94, 6.  , 6.47, 6.8 , 7.64, 7.13, 8.03,\n",
       "       5.23, 8.49, 6.43, 6.73, 8.38, 5.82, 6.02, 7.95, 7.35, 7.47, 5.56,\n",
       "       7.02, 7.96, 6.74, 6.64, 8.21, 6.37, 7.21, 7.92, 6.41, 5.7 , 5.9 ,\n",
       "       5.95, 5.58, 7.27, 7.55, 7.26, 6.08, 8.02, 6.04, 6.5 , 7.59, 8.27,\n",
       "       6.91, 7.89, 8.56, 6.66, 6.21, 7.39, 5.86, 6.83, 5.78, 5.81, 4.92,\n",
       "       8.5 , 7.52, 6.07, 6.52, 7.83, 6.84, 5.72, 6.49, 7.58, 7.06, 6.35,\n",
       "       6.55, 6.61, 6.06, 6.18, 8.13, 7.04, 6.54, 6.57, 8.48, 6.14, 8.05,\n",
       "       7.6 , 7.69, 6.36, 7.49, 6.1 , 6.34, 7.62, 8.06, 5.62, 8.14, 5.27,\n",
       "       5.52, 5.98, 8.39, 7.74, 5.83, 5.51, 5.73, 7.98, 5.96, 7.97, 6.01,\n",
       "       8.  , 8.43, 5.64, 8.87, 9.12, 4.89, 8.62, 4.9 ])"
      ]
     },
     "execution_count": 19,
     "metadata": {},
     "output_type": "execute_result"
    }
   ],
   "source": [
    "js[\"score\"].unique()"
   ]
  },
  {
   "cell_type": "code",
   "execution_count": 20,
   "id": "13b93ca3",
   "metadata": {},
   "outputs": [
    {
     "data": {
      "text/plain": [
       "7.19    10\n",
       "7.09    10\n",
       "7.33    10\n",
       "7.46    10\n",
       "6.67    10\n",
       "        ..\n",
       "8.13     1\n",
       "8.42     1\n",
       "8.53     1\n",
       "8.48     1\n",
       "4.90     1\n",
       "Name: score, Length: 261, dtype: int64"
      ]
     },
     "execution_count": 20,
     "metadata": {},
     "output_type": "execute_result"
    }
   ],
   "source": [
    "js[\"score\"].value_counts()"
   ]
  },
  {
   "cell_type": "code",
   "execution_count": 21,
   "id": "ef0b64ee",
   "metadata": {},
   "outputs": [
    {
     "data": {
      "text/plain": [
       "Index(['score', 'exam_marks', 'selected'], dtype='object')"
      ]
     },
     "execution_count": 21,
     "metadata": {},
     "output_type": "execute_result"
    }
   ],
   "source": [
    "js.columns"
   ]
  },
  {
   "cell_type": "code",
   "execution_count": 25,
   "id": "399cb5b7",
   "metadata": {},
   "outputs": [
    {
     "data": {
      "text/html": [
       "<div>\n",
       "<style scoped>\n",
       "    .dataframe tbody tr th:only-of-type {\n",
       "        vertical-align: middle;\n",
       "    }\n",
       "\n",
       "    .dataframe tbody tr th {\n",
       "        vertical-align: top;\n",
       "    }\n",
       "\n",
       "    .dataframe thead th {\n",
       "        text-align: right;\n",
       "    }\n",
       "</style>\n",
       "<table border=\"1\" class=\"dataframe\">\n",
       "  <thead>\n",
       "    <tr style=\"text-align: right;\">\n",
       "      <th></th>\n",
       "      <th>score</th>\n",
       "      <th>exam_marks</th>\n",
       "      <th>selected</th>\n",
       "    </tr>\n",
       "  </thead>\n",
       "  <tbody>\n",
       "    <tr>\n",
       "      <th>0</th>\n",
       "      <td>7.19</td>\n",
       "      <td>26</td>\n",
       "      <td>1</td>\n",
       "    </tr>\n",
       "    <tr>\n",
       "      <th>1</th>\n",
       "      <td>7.46</td>\n",
       "      <td>38</td>\n",
       "      <td>1</td>\n",
       "    </tr>\n",
       "    <tr>\n",
       "      <th>2</th>\n",
       "      <td>7.54</td>\n",
       "      <td>40</td>\n",
       "      <td>1</td>\n",
       "    </tr>\n",
       "    <tr>\n",
       "      <th>3</th>\n",
       "      <td>6.42</td>\n",
       "      <td>8</td>\n",
       "      <td>1</td>\n",
       "    </tr>\n",
       "    <tr>\n",
       "      <th>4</th>\n",
       "      <td>7.23</td>\n",
       "      <td>17</td>\n",
       "      <td>0</td>\n",
       "    </tr>\n",
       "    <tr>\n",
       "      <th>...</th>\n",
       "      <td>...</td>\n",
       "      <td>...</td>\n",
       "      <td>...</td>\n",
       "    </tr>\n",
       "    <tr>\n",
       "      <th>995</th>\n",
       "      <td>8.87</td>\n",
       "      <td>44</td>\n",
       "      <td>1</td>\n",
       "    </tr>\n",
       "    <tr>\n",
       "      <th>996</th>\n",
       "      <td>9.12</td>\n",
       "      <td>65</td>\n",
       "      <td>1</td>\n",
       "    </tr>\n",
       "    <tr>\n",
       "      <th>997</th>\n",
       "      <td>4.89</td>\n",
       "      <td>34</td>\n",
       "      <td>0</td>\n",
       "    </tr>\n",
       "    <tr>\n",
       "      <th>998</th>\n",
       "      <td>8.62</td>\n",
       "      <td>46</td>\n",
       "      <td>1</td>\n",
       "    </tr>\n",
       "    <tr>\n",
       "      <th>999</th>\n",
       "      <td>4.90</td>\n",
       "      <td>10</td>\n",
       "      <td>1</td>\n",
       "    </tr>\n",
       "  </tbody>\n",
       "</table>\n",
       "<p>1000 rows × 3 columns</p>\n",
       "</div>"
      ],
      "text/plain": [
       "     score  exam_marks  selected\n",
       "0     7.19          26         1\n",
       "1     7.46          38         1\n",
       "2     7.54          40         1\n",
       "3     6.42           8         1\n",
       "4     7.23          17         0\n",
       "..     ...         ...       ...\n",
       "995   8.87          44         1\n",
       "996   9.12          65         1\n",
       "997   4.89          34         0\n",
       "998   8.62          46         1\n",
       "999   4.90          10         1\n",
       "\n",
       "[1000 rows x 3 columns]"
      ]
     },
     "execution_count": 25,
     "metadata": {},
     "output_type": "execute_result"
    }
   ],
   "source": [
    "js"
   ]
  },
  {
   "cell_type": "code",
   "execution_count": 26,
   "id": "6dab1adb",
   "metadata": {},
   "outputs": [
    {
     "data": {
      "text/plain": [
       "<seaborn.axisgrid.FacetGrid at 0x12942ede1d0>"
      ]
     },
     "execution_count": 26,
     "metadata": {},
     "output_type": "execute_result"
    },
    {
     "data": {
      "image/png": "[encoded data removed]",
      "text/plain": [
       "<Figure size 500x500 with 1 Axes>"
      ]
     },
     "metadata": {},
     "output_type": "display_data"
    }
   ],
   "source": [
    "sns.displot(js[\"score\"])"
   ]
  },
  {
   "cell_type": "code",
   "execution_count": 27,
   "id": "97e4f76a",
   "metadata": {},
   "outputs": [
    {
     "data": {
      "text/plain": [
       "-0.014529938929314918"
      ]
     },
     "execution_count": 27,
     "metadata": {},
     "output_type": "execute_result"
    }
   ],
   "source": [
    "js[\"score\"].skew()"
   ]
  },
  {
   "cell_type": "code",
   "execution_count": 28,
   "id": "b33e1f56",
   "metadata": {},
   "outputs": [
    {
     "data": {
      "text/plain": [
       "-0.0"
      ]
     },
     "execution_count": 28,
     "metadata": {},
     "output_type": "execute_result"
    }
   ],
   "source": [
    "np.round(js[\"score\"].skew())"
   ]
  },
  {
   "cell_type": "code",
   "execution_count": 29,
   "id": "5efe52e7",
   "metadata": {},
   "outputs": [
    {
     "data": {
      "text/plain": [
       "6.96124"
      ]
     },
     "execution_count": 29,
     "metadata": {},
     "output_type": "execute_result"
    }
   ],
   "source": [
    "js[\"score\"].mean()"
   ]
  },
  {
   "cell_type": "code",
   "execution_count": 30,
   "id": "79140648",
   "metadata": {},
   "outputs": [
    {
     "data": {
      "text/plain": [
       "0.6158978751323894"
      ]
     },
     "execution_count": 30,
     "metadata": {},
     "output_type": "execute_result"
    }
   ],
   "source": [
    "js[\"score\"].std()"
   ]
  },
  {
   "cell_type": "code",
   "execution_count": 31,
   "id": "8f35a733",
   "metadata": {},
   "outputs": [
    {
     "data": {
      "text/plain": [
       "count    1000.000000\n",
       "mean        6.961240\n",
       "std         0.615898\n",
       "min         4.890000\n",
       "25%         6.550000\n",
       "50%         6.960000\n",
       "75%         7.370000\n",
       "max         9.120000\n",
       "Name: score, dtype: float64"
      ]
     },
     "execution_count": 31,
     "metadata": {},
     "output_type": "execute_result"
    }
   ],
   "source": [
    "js[\"score\"].describe()"
   ]
  },
  {
   "cell_type": "code",
   "execution_count": 32,
   "id": "d4a66fd1",
   "metadata": {},
   "outputs": [],
   "source": [
    "m = js[\"score\"].mean()"
   ]
  },
  {
   "cell_type": "code",
   "execution_count": 33,
   "id": "74de3323",
   "metadata": {},
   "outputs": [
    {
     "data": {
      "text/plain": [
       "6.96124"
      ]
     },
     "execution_count": 33,
     "metadata": {},
     "output_type": "execute_result"
    }
   ],
   "source": [
    "m"
   ]
  },
  {
   "cell_type": "code",
   "execution_count": 34,
   "id": "24d0c4ad",
   "metadata": {},
   "outputs": [],
   "source": [
    "s = js[\"score\"].std()"
   ]
  },
  {
   "cell_type": "code",
   "execution_count": 35,
   "id": "dfacdeb0",
   "metadata": {},
   "outputs": [
    {
     "data": {
      "text/plain": [
       "0.6158978751323894"
      ]
     },
     "execution_count": 35,
     "metadata": {},
     "output_type": "execute_result"
    }
   ],
   "source": [
    "s"
   ]
  },
  {
   "cell_type": "code",
   "execution_count": 36,
   "id": "ba4ac6dd",
   "metadata": {},
   "outputs": [],
   "source": [
    "lower = m - (3 * s)"
   ]
  },
  {
   "cell_type": "code",
   "execution_count": 37,
   "id": "8fe69975",
   "metadata": {},
   "outputs": [
    {
     "data": {
      "text/plain": [
       "5.113546374602832"
      ]
     },
     "execution_count": 37,
     "metadata": {},
     "output_type": "execute_result"
    }
   ],
   "source": [
    "lower"
   ]
  },
  {
   "cell_type": "code",
   "execution_count": 38,
   "id": "afed4ac2",
   "metadata": {},
   "outputs": [],
   "source": [
    "upper = m + (3 * s)"
   ]
  },
  {
   "cell_type": "code",
   "execution_count": 39,
   "id": "ace22f6f",
   "metadata": {},
   "outputs": [
    {
     "data": {
      "text/plain": [
       "8.808933625397168"
      ]
     },
     "execution_count": 39,
     "metadata": {},
     "output_type": "execute_result"
    }
   ],
   "source": [
    "upper"
   ]
  },
  {
   "cell_type": "code",
   "execution_count": 40,
   "id": "4db70164",
   "metadata": {},
   "outputs": [
    {
     "data": {
      "text/plain": [
       "0      False\n",
       "1      False\n",
       "2      False\n",
       "3      False\n",
       "4      False\n",
       "       ...  \n",
       "995     True\n",
       "996     True\n",
       "997    False\n",
       "998    False\n",
       "999    False\n",
       "Name: score, Length: 1000, dtype: bool"
      ]
     },
     "execution_count": 40,
     "metadata": {},
     "output_type": "execute_result"
    }
   ],
   "source": [
    " js[\"score\"]>upper"
   ]
  },
  {
   "cell_type": "code",
   "execution_count": 41,
   "id": "2fab279f",
   "metadata": {},
   "outputs": [
    {
     "data": {
      "text/html": [
       "<div>\n",
       "<style scoped>\n",
       "    .dataframe tbody tr th:only-of-type {\n",
       "        vertical-align: middle;\n",
       "    }\n",
       "\n",
       "    .dataframe tbody tr th {\n",
       "        vertical-align: top;\n",
       "    }\n",
       "\n",
       "    .dataframe thead th {\n",
       "        text-align: right;\n",
       "    }\n",
       "</style>\n",
       "<table border=\"1\" class=\"dataframe\">\n",
       "  <thead>\n",
       "    <tr style=\"text-align: right;\">\n",
       "      <th></th>\n",
       "      <th>score</th>\n",
       "      <th>exam_marks</th>\n",
       "      <th>selected</th>\n",
       "    </tr>\n",
       "  </thead>\n",
       "  <tbody>\n",
       "    <tr>\n",
       "      <th>995</th>\n",
       "      <td>8.87</td>\n",
       "      <td>44</td>\n",
       "      <td>1</td>\n",
       "    </tr>\n",
       "    <tr>\n",
       "      <th>996</th>\n",
       "      <td>9.12</td>\n",
       "      <td>65</td>\n",
       "      <td>1</td>\n",
       "    </tr>\n",
       "  </tbody>\n",
       "</table>\n",
       "</div>"
      ],
      "text/plain": [
       "     score  exam_marks  selected\n",
       "995   8.87          44         1\n",
       "996   9.12          65         1"
      ]
     },
     "execution_count": 41,
     "metadata": {},
     "output_type": "execute_result"
    }
   ],
   "source": [
    "js[ js[\"score\"]>upper]"
   ]
  },
  {
   "cell_type": "code",
   "execution_count": 42,
   "id": "2e3f897a",
   "metadata": {},
   "outputs": [
    {
     "data": {
      "text/plain": [
       "(2, 3)"
      ]
     },
     "execution_count": 42,
     "metadata": {},
     "output_type": "execute_result"
    }
   ],
   "source": [
    "js[ js[\"score\"]>upper].shape"
   ]
  },
  {
   "cell_type": "code",
   "execution_count": 43,
   "id": "9971a5b7",
   "metadata": {},
   "outputs": [
    {
     "data": {
      "text/html": [
       "<div>\n",
       "<style scoped>\n",
       "    .dataframe tbody tr th:only-of-type {\n",
       "        vertical-align: middle;\n",
       "    }\n",
       "\n",
       "    .dataframe tbody tr th {\n",
       "        vertical-align: top;\n",
       "    }\n",
       "\n",
       "    .dataframe thead th {\n",
       "        text-align: right;\n",
       "    }\n",
       "</style>\n",
       "<table border=\"1\" class=\"dataframe\">\n",
       "  <thead>\n",
       "    <tr style=\"text-align: right;\">\n",
       "      <th></th>\n",
       "      <th>score</th>\n",
       "      <th>exam_marks</th>\n",
       "      <th>selected</th>\n",
       "    </tr>\n",
       "  </thead>\n",
       "  <tbody>\n",
       "    <tr>\n",
       "      <th>485</th>\n",
       "      <td>4.92</td>\n",
       "      <td>44</td>\n",
       "      <td>1</td>\n",
       "    </tr>\n",
       "    <tr>\n",
       "      <th>997</th>\n",
       "      <td>4.89</td>\n",
       "      <td>34</td>\n",
       "      <td>0</td>\n",
       "    </tr>\n",
       "    <tr>\n",
       "      <th>999</th>\n",
       "      <td>4.90</td>\n",
       "      <td>10</td>\n",
       "      <td>1</td>\n",
       "    </tr>\n",
       "  </tbody>\n",
       "</table>\n",
       "</div>"
      ],
      "text/plain": [
       "     score  exam_marks  selected\n",
       "485   4.92          44         1\n",
       "997   4.89          34         0\n",
       "999   4.90          10         1"
      ]
     },
     "execution_count": 43,
     "metadata": {},
     "output_type": "execute_result"
    }
   ],
   "source": [
    "js[ js[\"score\"]<lower]"
   ]
  },
  {
   "cell_type": "code",
   "execution_count": 44,
   "id": "2b0ad0c1",
   "metadata": {},
   "outputs": [
    {
     "data": {
      "text/plain": [
       "(3, 3)"
      ]
     },
     "execution_count": 44,
     "metadata": {},
     "output_type": "execute_result"
    }
   ],
   "source": [
    "js[ js[\"score\"]<lower].shape"
   ]
  },
  {
   "cell_type": "code",
   "execution_count": 50,
   "id": "046d1ba4",
   "metadata": {
    "scrolled": true
   },
   "outputs": [
    {
     "data": {
      "text/plain": [
       "0      False\n",
       "1      False\n",
       "2      False\n",
       "3      False\n",
       "4      False\n",
       "       ...  \n",
       "995     True\n",
       "996     True\n",
       "997     True\n",
       "998    False\n",
       "999     True\n",
       "Name: score, Length: 1000, dtype: bool"
      ]
     },
     "execution_count": 50,
     "metadata": {},
     "output_type": "execute_result"
    }
   ],
   "source": [
    "(js[\"score\"]<lower) | ( js[\"score\"]>upper)"
   ]
  },
  {
   "cell_type": "code",
   "execution_count": 51,
   "id": "b42b8f09",
   "metadata": {},
   "outputs": [
    {
     "data": {
      "text/html": [
       "<div>\n",
       "<style scoped>\n",
       "    .dataframe tbody tr th:only-of-type {\n",
       "        vertical-align: middle;\n",
       "    }\n",
       "\n",
       "    .dataframe tbody tr th {\n",
       "        vertical-align: top;\n",
       "    }\n",
       "\n",
       "    .dataframe thead th {\n",
       "        text-align: right;\n",
       "    }\n",
       "</style>\n",
       "<table border=\"1\" class=\"dataframe\">\n",
       "  <thead>\n",
       "    <tr style=\"text-align: right;\">\n",
       "      <th></th>\n",
       "      <th>score</th>\n",
       "      <th>exam_marks</th>\n",
       "      <th>selected</th>\n",
       "    </tr>\n",
       "  </thead>\n",
       "  <tbody>\n",
       "    <tr>\n",
       "      <th>485</th>\n",
       "      <td>4.92</td>\n",
       "      <td>44</td>\n",
       "      <td>1</td>\n",
       "    </tr>\n",
       "    <tr>\n",
       "      <th>995</th>\n",
       "      <td>8.87</td>\n",
       "      <td>44</td>\n",
       "      <td>1</td>\n",
       "    </tr>\n",
       "    <tr>\n",
       "      <th>996</th>\n",
       "      <td>9.12</td>\n",
       "      <td>65</td>\n",
       "      <td>1</td>\n",
       "    </tr>\n",
       "    <tr>\n",
       "      <th>997</th>\n",
       "      <td>4.89</td>\n",
       "      <td>34</td>\n",
       "      <td>0</td>\n",
       "    </tr>\n",
       "    <tr>\n",
       "      <th>999</th>\n",
       "      <td>4.90</td>\n",
       "      <td>10</td>\n",
       "      <td>1</td>\n",
       "    </tr>\n",
       "  </tbody>\n",
       "</table>\n",
       "</div>"
      ],
      "text/plain": [
       "     score  exam_marks  selected\n",
       "485   4.92          44         1\n",
       "995   8.87          44         1\n",
       "996   9.12          65         1\n",
       "997   4.89          34         0\n",
       "999   4.90          10         1"
      ]
     },
     "execution_count": 51,
     "metadata": {},
     "output_type": "execute_result"
    }
   ],
   "source": [
    "js[(js[\"score\"]<lower) | ( js[\"score\"]>upper)]"
   ]
  },
  {
   "cell_type": "code",
   "execution_count": 52,
   "id": "160b4a02",
   "metadata": {},
   "outputs": [
    {
     "data": {
      "text/plain": [
       "(5, 3)"
      ]
     },
     "execution_count": 52,
     "metadata": {},
     "output_type": "execute_result"
    }
   ],
   "source": [
    "js[(js[\"score\"]<lower) | ( js[\"score\"]>upper)].shape"
   ]
  },
  {
   "cell_type": "code",
   "execution_count": 53,
   "id": "edefca02",
   "metadata": {},
   "outputs": [
    {
     "data": {
      "text/plain": [
       "(1000, 3)"
      ]
     },
     "execution_count": 53,
     "metadata": {},
     "output_type": "execute_result"
    }
   ],
   "source": [
    "js.shape"
   ]
  },
  {
   "cell_type": "code",
   "execution_count": 56,
   "id": "58a450fc",
   "metadata": {},
   "outputs": [
    {
     "data": {
      "text/plain": [
       "0       True\n",
       "1       True\n",
       "2       True\n",
       "3       True\n",
       "4       True\n",
       "       ...  \n",
       "995    False\n",
       "996    False\n",
       "997    False\n",
       "998     True\n",
       "999    False\n",
       "Name: score, Length: 1000, dtype: bool"
      ]
     },
     "execution_count": 56,
     "metadata": {},
     "output_type": "execute_result"
    }
   ],
   "source": [
    "(js[\"score\"]>=lower) & ( js[\"score\"]<=upper)"
   ]
  },
  {
   "cell_type": "code",
   "execution_count": 61,
   "id": "a2e56635",
   "metadata": {},
   "outputs": [
    {
     "data": {
      "text/html": [
       "<div>\n",
       "<style scoped>\n",
       "    .dataframe tbody tr th:only-of-type {\n",
       "        vertical-align: middle;\n",
       "    }\n",
       "\n",
       "    .dataframe tbody tr th {\n",
       "        vertical-align: top;\n",
       "    }\n",
       "\n",
       "    .dataframe thead th {\n",
       "        text-align: right;\n",
       "    }\n",
       "</style>\n",
       "<table border=\"1\" class=\"dataframe\">\n",
       "  <thead>\n",
       "    <tr style=\"text-align: right;\">\n",
       "      <th></th>\n",
       "      <th>score</th>\n",
       "      <th>exam_marks</th>\n",
       "      <th>selected</th>\n",
       "    </tr>\n",
       "  </thead>\n",
       "  <tbody>\n",
       "    <tr>\n",
       "      <th>0</th>\n",
       "      <td>7.19</td>\n",
       "      <td>26</td>\n",
       "      <td>1</td>\n",
       "    </tr>\n",
       "    <tr>\n",
       "      <th>1</th>\n",
       "      <td>7.46</td>\n",
       "      <td>38</td>\n",
       "      <td>1</td>\n",
       "    </tr>\n",
       "    <tr>\n",
       "      <th>2</th>\n",
       "      <td>7.54</td>\n",
       "      <td>40</td>\n",
       "      <td>1</td>\n",
       "    </tr>\n",
       "    <tr>\n",
       "      <th>3</th>\n",
       "      <td>6.42</td>\n",
       "      <td>8</td>\n",
       "      <td>1</td>\n",
       "    </tr>\n",
       "    <tr>\n",
       "      <th>4</th>\n",
       "      <td>7.23</td>\n",
       "      <td>17</td>\n",
       "      <td>0</td>\n",
       "    </tr>\n",
       "    <tr>\n",
       "      <th>...</th>\n",
       "      <td>...</td>\n",
       "      <td>...</td>\n",
       "      <td>...</td>\n",
       "    </tr>\n",
       "    <tr>\n",
       "      <th>991</th>\n",
       "      <td>7.04</td>\n",
       "      <td>57</td>\n",
       "      <td>0</td>\n",
       "    </tr>\n",
       "    <tr>\n",
       "      <th>992</th>\n",
       "      <td>6.26</td>\n",
       "      <td>12</td>\n",
       "      <td>0</td>\n",
       "    </tr>\n",
       "    <tr>\n",
       "      <th>993</th>\n",
       "      <td>6.73</td>\n",
       "      <td>21</td>\n",
       "      <td>1</td>\n",
       "    </tr>\n",
       "    <tr>\n",
       "      <th>994</th>\n",
       "      <td>6.48</td>\n",
       "      <td>63</td>\n",
       "      <td>0</td>\n",
       "    </tr>\n",
       "    <tr>\n",
       "      <th>998</th>\n",
       "      <td>8.62</td>\n",
       "      <td>46</td>\n",
       "      <td>1</td>\n",
       "    </tr>\n",
       "  </tbody>\n",
       "</table>\n",
       "<p>995 rows × 3 columns</p>\n",
       "</div>"
      ],
      "text/plain": [
       "     score  exam_marks  selected\n",
       "0     7.19          26         1\n",
       "1     7.46          38         1\n",
       "2     7.54          40         1\n",
       "3     6.42           8         1\n",
       "4     7.23          17         0\n",
       "..     ...         ...       ...\n",
       "991   7.04          57         0\n",
       "992   6.26          12         0\n",
       "993   6.73          21         1\n",
       "994   6.48          63         0\n",
       "998   8.62          46         1\n",
       "\n",
       "[995 rows x 3 columns]"
      ]
     },
     "execution_count": 61,
     "metadata": {},
     "output_type": "execute_result"
    }
   ],
   "source": [
    "js[(js[\"score\"]>=lower) & ( js[\"score\"]<=upper)]"
   ]
  },
  {
   "cell_type": "code",
   "execution_count": 62,
   "id": "d82a378f",
   "metadata": {},
   "outputs": [],
   "source": [
    "js2 = js[(js[\"score\"]>=lower) & ( js[\"score\"]<=upper)]"
   ]
  },
  {
   "cell_type": "code",
   "execution_count": 63,
   "id": "785f585f",
   "metadata": {},
   "outputs": [
    {
     "data": {
      "text/html": [
       "<div>\n",
       "<style scoped>\n",
       "    .dataframe tbody tr th:only-of-type {\n",
       "        vertical-align: middle;\n",
       "    }\n",
       "\n",
       "    .dataframe tbody tr th {\n",
       "        vertical-align: top;\n",
       "    }\n",
       "\n",
       "    .dataframe thead th {\n",
       "        text-align: right;\n",
       "    }\n",
       "</style>\n",
       "<table border=\"1\" class=\"dataframe\">\n",
       "  <thead>\n",
       "    <tr style=\"text-align: right;\">\n",
       "      <th></th>\n",
       "      <th>score</th>\n",
       "      <th>exam_marks</th>\n",
       "      <th>selected</th>\n",
       "    </tr>\n",
       "  </thead>\n",
       "  <tbody>\n",
       "    <tr>\n",
       "      <th>0</th>\n",
       "      <td>7.19</td>\n",
       "      <td>26</td>\n",
       "      <td>1</td>\n",
       "    </tr>\n",
       "    <tr>\n",
       "      <th>1</th>\n",
       "      <td>7.46</td>\n",
       "      <td>38</td>\n",
       "      <td>1</td>\n",
       "    </tr>\n",
       "    <tr>\n",
       "      <th>2</th>\n",
       "      <td>7.54</td>\n",
       "      <td>40</td>\n",
       "      <td>1</td>\n",
       "    </tr>\n",
       "    <tr>\n",
       "      <th>3</th>\n",
       "      <td>6.42</td>\n",
       "      <td>8</td>\n",
       "      <td>1</td>\n",
       "    </tr>\n",
       "    <tr>\n",
       "      <th>4</th>\n",
       "      <td>7.23</td>\n",
       "      <td>17</td>\n",
       "      <td>0</td>\n",
       "    </tr>\n",
       "    <tr>\n",
       "      <th>...</th>\n",
       "      <td>...</td>\n",
       "      <td>...</td>\n",
       "      <td>...</td>\n",
       "    </tr>\n",
       "    <tr>\n",
       "      <th>991</th>\n",
       "      <td>7.04</td>\n",
       "      <td>57</td>\n",
       "      <td>0</td>\n",
       "    </tr>\n",
       "    <tr>\n",
       "      <th>992</th>\n",
       "      <td>6.26</td>\n",
       "      <td>12</td>\n",
       "      <td>0</td>\n",
       "    </tr>\n",
       "    <tr>\n",
       "      <th>993</th>\n",
       "      <td>6.73</td>\n",
       "      <td>21</td>\n",
       "      <td>1</td>\n",
       "    </tr>\n",
       "    <tr>\n",
       "      <th>994</th>\n",
       "      <td>6.48</td>\n",
       "      <td>63</td>\n",
       "      <td>0</td>\n",
       "    </tr>\n",
       "    <tr>\n",
       "      <th>998</th>\n",
       "      <td>8.62</td>\n",
       "      <td>46</td>\n",
       "      <td>1</td>\n",
       "    </tr>\n",
       "  </tbody>\n",
       "</table>\n",
       "<p>995 rows × 3 columns</p>\n",
       "</div>"
      ],
      "text/plain": [
       "     score  exam_marks  selected\n",
       "0     7.19          26         1\n",
       "1     7.46          38         1\n",
       "2     7.54          40         1\n",
       "3     6.42           8         1\n",
       "4     7.23          17         0\n",
       "..     ...         ...       ...\n",
       "991   7.04          57         0\n",
       "992   6.26          12         0\n",
       "993   6.73          21         1\n",
       "994   6.48          63         0\n",
       "998   8.62          46         1\n",
       "\n",
       "[995 rows x 3 columns]"
      ]
     },
     "execution_count": 63,
     "metadata": {},
     "output_type": "execute_result"
    }
   ],
   "source": [
    "js2"
   ]
  },
  {
   "cell_type": "markdown",
   "id": "baa3c826",
   "metadata": {},
   "source": [
    "## Capping"
   ]
  },
  {
   "cell_type": "code",
   "execution_count": 64,
   "id": "75b76c52",
   "metadata": {},
   "outputs": [
    {
     "data": {
      "text/html": [
       "<div>\n",
       "<style scoped>\n",
       "    .dataframe tbody tr th:only-of-type {\n",
       "        vertical-align: middle;\n",
       "    }\n",
       "\n",
       "    .dataframe tbody tr th {\n",
       "        vertical-align: top;\n",
       "    }\n",
       "\n",
       "    .dataframe thead th {\n",
       "        text-align: right;\n",
       "    }\n",
       "</style>\n",
       "<table border=\"1\" class=\"dataframe\">\n",
       "  <thead>\n",
       "    <tr style=\"text-align: right;\">\n",
       "      <th></th>\n",
       "      <th>score</th>\n",
       "      <th>exam_marks</th>\n",
       "      <th>selected</th>\n",
       "    </tr>\n",
       "  </thead>\n",
       "  <tbody>\n",
       "    <tr>\n",
       "      <th>485</th>\n",
       "      <td>4.92</td>\n",
       "      <td>44</td>\n",
       "      <td>1</td>\n",
       "    </tr>\n",
       "    <tr>\n",
       "      <th>995</th>\n",
       "      <td>8.87</td>\n",
       "      <td>44</td>\n",
       "      <td>1</td>\n",
       "    </tr>\n",
       "    <tr>\n",
       "      <th>996</th>\n",
       "      <td>9.12</td>\n",
       "      <td>65</td>\n",
       "      <td>1</td>\n",
       "    </tr>\n",
       "    <tr>\n",
       "      <th>997</th>\n",
       "      <td>4.89</td>\n",
       "      <td>34</td>\n",
       "      <td>0</td>\n",
       "    </tr>\n",
       "    <tr>\n",
       "      <th>999</th>\n",
       "      <td>4.90</td>\n",
       "      <td>10</td>\n",
       "      <td>1</td>\n",
       "    </tr>\n",
       "  </tbody>\n",
       "</table>\n",
       "</div>"
      ],
      "text/plain": [
       "     score  exam_marks  selected\n",
       "485   4.92          44         1\n",
       "995   8.87          44         1\n",
       "996   9.12          65         1\n",
       "997   4.89          34         0\n",
       "999   4.90          10         1"
      ]
     },
     "execution_count": 64,
     "metadata": {},
     "output_type": "execute_result"
    }
   ],
   "source": [
    "js[(js[\"score\"]<lower) | ( js[\"score\"]>upper)]"
   ]
  },
  {
   "cell_type": "code",
   "execution_count": 65,
   "id": "0eba430f",
   "metadata": {},
   "outputs": [
    {
     "data": {
      "text/plain": [
       "0      7.19\n",
       "1      7.46\n",
       "2      7.54\n",
       "3      6.42\n",
       "4      7.23\n",
       "       ... \n",
       "995    8.87\n",
       "996    9.12\n",
       "997    4.89\n",
       "998    8.62\n",
       "999    4.90\n",
       "Name: score, Length: 1000, dtype: float64"
      ]
     },
     "execution_count": 65,
     "metadata": {},
     "output_type": "execute_result"
    }
   ],
   "source": [
    "js[\"score\"]"
   ]
  },
  {
   "cell_type": "code",
   "execution_count": 66,
   "id": "7a885d66",
   "metadata": {},
   "outputs": [
    {
     "data": {
      "text/plain": [
       "0      7.190000\n",
       "1      7.460000\n",
       "2      7.540000\n",
       "3      6.420000\n",
       "4      7.230000\n",
       "         ...   \n",
       "995    8.808934\n",
       "996    8.808934\n",
       "997    5.113546\n",
       "998    8.620000\n",
       "999    5.113546\n",
       "Name: score, Length: 1000, dtype: float64"
      ]
     },
     "execution_count": 66,
     "metadata": {},
     "output_type": "execute_result"
    }
   ],
   "source": [
    "js[\"score\"].map(lambda x : lower if x < lower else upper if x > upper else x)"
   ]
  },
  {
   "cell_type": "code",
   "execution_count": 67,
   "id": "efb1622a",
   "metadata": {},
   "outputs": [],
   "source": [
    "js[\"score\"] = js[\"score\"].map(lambda x : lower if x < lower else upper if x > upper else x)"
   ]
  },
  {
   "cell_type": "code",
   "execution_count": 68,
   "id": "54ca10f9",
   "metadata": {},
   "outputs": [
    {
     "data": {
      "text/plain": [
       "0      7.190000\n",
       "1      7.460000\n",
       "2      7.540000\n",
       "3      6.420000\n",
       "4      7.230000\n",
       "         ...   \n",
       "995    8.808934\n",
       "996    8.808934\n",
       "997    5.113546\n",
       "998    8.620000\n",
       "999    5.113546\n",
       "Name: score, Length: 1000, dtype: float64"
      ]
     },
     "execution_count": 68,
     "metadata": {},
     "output_type": "execute_result"
    }
   ],
   "source": [
    "js[\"score\"]"
   ]
  },
  {
   "cell_type": "code",
   "execution_count": 69,
   "id": "ba109cd7",
   "metadata": {},
   "outputs": [
    {
     "data": {
      "text/html": [
       "<div>\n",
       "<style scoped>\n",
       "    .dataframe tbody tr th:only-of-type {\n",
       "        vertical-align: middle;\n",
       "    }\n",
       "\n",
       "    .dataframe tbody tr th {\n",
       "        vertical-align: top;\n",
       "    }\n",
       "\n",
       "    .dataframe thead th {\n",
       "        text-align: right;\n",
       "    }\n",
       "</style>\n",
       "<table border=\"1\" class=\"dataframe\">\n",
       "  <thead>\n",
       "    <tr style=\"text-align: right;\">\n",
       "      <th></th>\n",
       "      <th>score</th>\n",
       "      <th>exam_marks</th>\n",
       "      <th>selected</th>\n",
       "    </tr>\n",
       "  </thead>\n",
       "  <tbody>\n",
       "    <tr>\n",
       "      <th>0</th>\n",
       "      <td>7.190000</td>\n",
       "      <td>26</td>\n",
       "      <td>1</td>\n",
       "    </tr>\n",
       "    <tr>\n",
       "      <th>1</th>\n",
       "      <td>7.460000</td>\n",
       "      <td>38</td>\n",
       "      <td>1</td>\n",
       "    </tr>\n",
       "    <tr>\n",
       "      <th>2</th>\n",
       "      <td>7.540000</td>\n",
       "      <td>40</td>\n",
       "      <td>1</td>\n",
       "    </tr>\n",
       "    <tr>\n",
       "      <th>3</th>\n",
       "      <td>6.420000</td>\n",
       "      <td>8</td>\n",
       "      <td>1</td>\n",
       "    </tr>\n",
       "    <tr>\n",
       "      <th>4</th>\n",
       "      <td>7.230000</td>\n",
       "      <td>17</td>\n",
       "      <td>0</td>\n",
       "    </tr>\n",
       "    <tr>\n",
       "      <th>...</th>\n",
       "      <td>...</td>\n",
       "      <td>...</td>\n",
       "      <td>...</td>\n",
       "    </tr>\n",
       "    <tr>\n",
       "      <th>995</th>\n",
       "      <td>8.808934</td>\n",
       "      <td>44</td>\n",
       "      <td>1</td>\n",
       "    </tr>\n",
       "    <tr>\n",
       "      <th>996</th>\n",
       "      <td>8.808934</td>\n",
       "      <td>65</td>\n",
       "      <td>1</td>\n",
       "    </tr>\n",
       "    <tr>\n",
       "      <th>997</th>\n",
       "      <td>5.113546</td>\n",
       "      <td>34</td>\n",
       "      <td>0</td>\n",
       "    </tr>\n",
       "    <tr>\n",
       "      <th>998</th>\n",
       "      <td>8.620000</td>\n",
       "      <td>46</td>\n",
       "      <td>1</td>\n",
       "    </tr>\n",
       "    <tr>\n",
       "      <th>999</th>\n",
       "      <td>5.113546</td>\n",
       "      <td>10</td>\n",
       "      <td>1</td>\n",
       "    </tr>\n",
       "  </tbody>\n",
       "</table>\n",
       "<p>1000 rows × 3 columns</p>\n",
       "</div>"
      ],
      "text/plain": [
       "        score  exam_marks  selected\n",
       "0    7.190000          26         1\n",
       "1    7.460000          38         1\n",
       "2    7.540000          40         1\n",
       "3    6.420000           8         1\n",
       "4    7.230000          17         0\n",
       "..        ...         ...       ...\n",
       "995  8.808934          44         1\n",
       "996  8.808934          65         1\n",
       "997  5.113546          34         0\n",
       "998  8.620000          46         1\n",
       "999  5.113546          10         1\n",
       "\n",
       "[1000 rows x 3 columns]"
      ]
     },
     "execution_count": 69,
     "metadata": {},
     "output_type": "execute_result"
    }
   ],
   "source": [
    "js"
   ]
  },
  {
   "cell_type": "markdown",
   "id": "fd06fc9d",
   "metadata": {},
   "source": [
    "## exam marks"
   ]
  },
  {
   "cell_type": "code",
   "execution_count": 70,
   "id": "fb764788",
   "metadata": {},
   "outputs": [
    {
     "data": {
      "text/plain": [
       "0      26\n",
       "1      38\n",
       "2      40\n",
       "3       8\n",
       "4      17\n",
       "       ..\n",
       "995    44\n",
       "996    65\n",
       "997    34\n",
       "998    46\n",
       "999    10\n",
       "Name: exam_marks, Length: 1000, dtype: int64"
      ]
     },
     "execution_count": 70,
     "metadata": {},
     "output_type": "execute_result"
    }
   ],
   "source": [
    "js[\"exam_marks\"]"
   ]
  },
  {
   "cell_type": "code",
   "execution_count": 71,
   "id": "70aae971",
   "metadata": {},
   "outputs": [
    {
     "data": {
      "text/plain": [
       "<seaborn.axisgrid.FacetGrid at 0x1294ace41d0>"
      ]
     },
     "execution_count": 71,
     "metadata": {},
     "output_type": "execute_result"
    },
    {
     "data": {
      "image/png": "[encoded data removed]",
      "text/plain": [
       "<Figure size 500x500 with 1 Axes>"
      ]
     },
     "metadata": {},
     "output_type": "display_data"
    }
   ],
   "source": [
    "sns.displot(js[\"exam_marks\"])"
   ]
  },
  {
   "cell_type": "code",
   "execution_count": 72,
   "id": "78e73e84",
   "metadata": {},
   "outputs": [
    {
     "data": {
      "text/plain": [
       "0.8356419499466834"
      ]
     },
     "execution_count": 72,
     "metadata": {},
     "output_type": "execute_result"
    }
   ],
   "source": [
    "js[\"exam_marks\"].skew()"
   ]
  },
  {
   "cell_type": "code",
   "execution_count": 73,
   "id": "91b02953",
   "metadata": {},
   "outputs": [
    {
     "data": {
      "text/plain": [
       "1.0"
      ]
     },
     "execution_count": 73,
     "metadata": {},
     "output_type": "execute_result"
    }
   ],
   "source": [
    "np.round(js[\"exam_marks\"].skew())"
   ]
  },
  {
   "cell_type": "code",
   "execution_count": 74,
   "id": "a5327f23",
   "metadata": {},
   "outputs": [],
   "source": [
    "m1 = js[\"exam_marks\"].mean()"
   ]
  },
  {
   "cell_type": "code",
   "execution_count": 75,
   "id": "6dfb817d",
   "metadata": {},
   "outputs": [
    {
     "data": {
      "text/plain": [
       "32.225"
      ]
     },
     "execution_count": 75,
     "metadata": {},
     "output_type": "execute_result"
    }
   ],
   "source": [
    "m1"
   ]
  },
  {
   "cell_type": "code",
   "execution_count": 76,
   "id": "adacb567",
   "metadata": {},
   "outputs": [],
   "source": [
    "s1 = js[\"exam_marks\"].std()"
   ]
  },
  {
   "cell_type": "code",
   "execution_count": 77,
   "id": "9f6f1537",
   "metadata": {},
   "outputs": [
    {
     "data": {
      "text/plain": [
       "19.13082233892108"
      ]
     },
     "execution_count": 77,
     "metadata": {},
     "output_type": "execute_result"
    }
   ],
   "source": [
    "s1"
   ]
  },
  {
   "cell_type": "code",
   "execution_count": 78,
   "id": "3ef7ebce",
   "metadata": {},
   "outputs": [
    {
     "data": {
      "text/plain": [
       "count    1000.000000\n",
       "mean       32.225000\n",
       "std        19.130822\n",
       "min         0.000000\n",
       "25%        17.000000\n",
       "50%        28.000000\n",
       "75%        44.000000\n",
       "max       100.000000\n",
       "Name: exam_marks, dtype: float64"
      ]
     },
     "execution_count": 78,
     "metadata": {},
     "output_type": "execute_result"
    }
   ],
   "source": [
    "js[\"exam_marks\"].describe()"
   ]
  },
  {
   "cell_type": "code",
   "execution_count": 79,
   "id": "6828af07",
   "metadata": {},
   "outputs": [],
   "source": [
    "lower = m1 - 3 * s1"
   ]
  },
  {
   "cell_type": "code",
   "execution_count": 80,
   "id": "6baadf06",
   "metadata": {},
   "outputs": [
    {
     "data": {
      "text/plain": [
       "-25.167467016763247"
      ]
     },
     "execution_count": 80,
     "metadata": {},
     "output_type": "execute_result"
    }
   ],
   "source": [
    "lower"
   ]
  },
  {
   "cell_type": "code",
   "execution_count": 81,
   "id": "1ecc22ec",
   "metadata": {},
   "outputs": [],
   "source": [
    "upper = m1 + 3 * s1"
   ]
  },
  {
   "cell_type": "code",
   "execution_count": 82,
   "id": "0fe31731",
   "metadata": {},
   "outputs": [
    {
     "data": {
      "text/plain": [
       "89.61746701676324"
      ]
     },
     "execution_count": 82,
     "metadata": {},
     "output_type": "execute_result"
    }
   ],
   "source": [
    "upper"
   ]
  },
  {
   "cell_type": "code",
   "execution_count": 85,
   "id": "d23fda66",
   "metadata": {},
   "outputs": [
    {
     "data": {
      "text/plain": [
       "0      False\n",
       "1      False\n",
       "2      False\n",
       "3      False\n",
       "4      False\n",
       "       ...  \n",
       "995    False\n",
       "996    False\n",
       "997    False\n",
       "998    False\n",
       "999    False\n",
       "Name: exam_marks, Length: 1000, dtype: bool"
      ]
     },
     "execution_count": 85,
     "metadata": {},
     "output_type": "execute_result"
    }
   ],
   "source": [
    "(js[\"exam_marks\"]<lower) | (js[\"exam_marks\"]> upper)"
   ]
  },
  {
   "cell_type": "code",
   "execution_count": 86,
   "id": "4bb069fd",
   "metadata": {},
   "outputs": [
    {
     "data": {
      "text/html": [
       "<div>\n",
       "<style scoped>\n",
       "    .dataframe tbody tr th:only-of-type {\n",
       "        vertical-align: middle;\n",
       "    }\n",
       "\n",
       "    .dataframe tbody tr th {\n",
       "        vertical-align: top;\n",
       "    }\n",
       "\n",
       "    .dataframe thead th {\n",
       "        text-align: right;\n",
       "    }\n",
       "</style>\n",
       "<table border=\"1\" class=\"dataframe\">\n",
       "  <thead>\n",
       "    <tr style=\"text-align: right;\">\n",
       "      <th></th>\n",
       "      <th>score</th>\n",
       "      <th>exam_marks</th>\n",
       "      <th>selected</th>\n",
       "    </tr>\n",
       "  </thead>\n",
       "  <tbody>\n",
       "    <tr>\n",
       "      <th>9</th>\n",
       "      <td>7.75</td>\n",
       "      <td>94</td>\n",
       "      <td>1</td>\n",
       "    </tr>\n",
       "    <tr>\n",
       "      <th>134</th>\n",
       "      <td>6.33</td>\n",
       "      <td>93</td>\n",
       "      <td>0</td>\n",
       "    </tr>\n",
       "    <tr>\n",
       "      <th>162</th>\n",
       "      <td>7.80</td>\n",
       "      <td>90</td>\n",
       "      <td>0</td>\n",
       "    </tr>\n",
       "    <tr>\n",
       "      <th>324</th>\n",
       "      <td>6.64</td>\n",
       "      <td>90</td>\n",
       "      <td>0</td>\n",
       "    </tr>\n",
       "    <tr>\n",
       "      <th>630</th>\n",
       "      <td>6.56</td>\n",
       "      <td>96</td>\n",
       "      <td>1</td>\n",
       "    </tr>\n",
       "    <tr>\n",
       "      <th>730</th>\n",
       "      <td>6.14</td>\n",
       "      <td>90</td>\n",
       "      <td>1</td>\n",
       "    </tr>\n",
       "    <tr>\n",
       "      <th>846</th>\n",
       "      <td>6.99</td>\n",
       "      <td>97</td>\n",
       "      <td>0</td>\n",
       "    </tr>\n",
       "    <tr>\n",
       "      <th>917</th>\n",
       "      <td>5.95</td>\n",
       "      <td>100</td>\n",
       "      <td>0</td>\n",
       "    </tr>\n",
       "  </tbody>\n",
       "</table>\n",
       "</div>"
      ],
      "text/plain": [
       "     score  exam_marks  selected\n",
       "9     7.75          94         1\n",
       "134   6.33          93         0\n",
       "162   7.80          90         0\n",
       "324   6.64          90         0\n",
       "630   6.56          96         1\n",
       "730   6.14          90         1\n",
       "846   6.99          97         0\n",
       "917   5.95         100         0"
      ]
     },
     "execution_count": 86,
     "metadata": {},
     "output_type": "execute_result"
    }
   ],
   "source": [
    "js[(js[\"exam_marks\"]<lower) | (js[\"exam_marks\"]> upper)]"
   ]
  },
  {
   "cell_type": "code",
   "execution_count": 87,
   "id": "8d10e443",
   "metadata": {},
   "outputs": [
    {
     "data": {
      "text/plain": [
       "0      26.0\n",
       "1      38.0\n",
       "2      40.0\n",
       "3       8.0\n",
       "4      17.0\n",
       "       ... \n",
       "995    44.0\n",
       "996    65.0\n",
       "997    34.0\n",
       "998    46.0\n",
       "999    10.0\n",
       "Name: exam_marks, Length: 1000, dtype: float64"
      ]
     },
     "execution_count": 87,
     "metadata": {},
     "output_type": "execute_result"
    }
   ],
   "source": [
    "js[\"exam_marks\"].apply(lambda x : lower if x < lower else upper if x > upper else x)"
   ]
  },
  {
   "cell_type": "code",
   "execution_count": 88,
   "id": "9fbb5e0f",
   "metadata": {},
   "outputs": [],
   "source": [
    "js[\"exam_marks\"] = js[\"exam_marks\"].apply(lambda x : lower if x < lower else upper if x > upper else x)"
   ]
  },
  {
   "cell_type": "code",
   "execution_count": 89,
   "id": "4525b4a6",
   "metadata": {
    "scrolled": true
   },
   "outputs": [
    {
     "data": {
      "text/plain": [
       "0      26.0\n",
       "1      38.0\n",
       "2      40.0\n",
       "3       8.0\n",
       "4      17.0\n",
       "       ... \n",
       "995    44.0\n",
       "996    65.0\n",
       "997    34.0\n",
       "998    46.0\n",
       "999    10.0\n",
       "Name: exam_marks, Length: 1000, dtype: float64"
      ]
     },
     "execution_count": 89,
     "metadata": {},
     "output_type": "execute_result"
    }
   ],
   "source": [
    "js[\"exam_marks\"]"
   ]
  },
  {
   "cell_type": "code",
   "execution_count": null,
   "id": "68ab622e",
   "metadata": {},
   "outputs": [],
   "source": []
  },
  {
   "cell_type": "code",
   "execution_count": null,
   "id": "4fd43b48",
   "metadata": {},
   "outputs": [],
   "source": []
  }
 ],
 "metadata": {
  "kernelspec": {
   "display_name": "Python 3 (ipykernel)",
   "language": "python",
   "name": "python3"
  },
  "language_info": {
   "codemirror_mode": {
    "name": "ipython",
    "version": 3
   },
   "file_extension": ".py",
   "mimetype": "text/x-python",
   "name": "python",
   "nbconvert_exporter": "python",
   "pygments_lexer": "ipython3",
   "version": "3.11.4"
  }
 },
 "nbformat": 4,
 "nbformat_minor": 5
}
